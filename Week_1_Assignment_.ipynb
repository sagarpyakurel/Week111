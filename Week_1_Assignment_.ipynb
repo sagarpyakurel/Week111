{
  "nbformat": 4,
  "nbformat_minor": 0,
  "metadata": {
    "colab": {
      "provenance": [],
      "authorship_tag": "ABX9TyOnmk7vF9jJ11cn9CC+MEpF",
      "include_colab_link": true
    },
    "kernelspec": {
      "name": "python3",
      "display_name": "Python 3"
    },
    "language_info": {
      "name": "python"
    }
  },
  "cells": [
    {
      "cell_type": "markdown",
      "metadata": {
        "id": "view-in-github",
        "colab_type": "text"
      },
      "source": [
        "<a href=\"https://colab.research.google.com/github/sagarpyakurel/Week111/blob/main/Week_1_Assignment_.ipynb\" target=\"_parent\"><img src=\"https://colab.research.google.com/assets/colab-badge.svg\" alt=\"Open In Colab\"/></a>"
      ]
    },
    {
      "cell_type": "code",
      "execution_count": null,
      "metadata": {
        "colab": {
          "base_uri": "https://localhost:8080/"
        },
        "id": "RTlCW6Dn9Eta",
        "outputId": "f13e467a-f09e-4dd5-f5f3-74897a5cc71b"
      },
      "outputs": [
        {
          "output_type": "stream",
          "name": "stdout",
          "text": [
            "Penalty Table:\n",
            "0\t100000\t200000\t300000\t400000\t500000\t600000\t700000\n",
            "100000\t200\t100200\t200000\t300000\t400000\t500000\t600000\n",
            "200000\t100200\t200\t100200\t200000\t300000\t400000\t500000\n",
            "300000\t200200\t100200\t200\t100200\t200000\t300000\t400000\n",
            "400000\t300200\t200200\t100200\t400\t100400\t200000\t300000\n",
            "500000\t400200\t300200\t200200\t100400\t600\t100600\t200000\n"
          ]
        }
      ],
      "source": [
        "def compute_penalty_table(X, Y, alpha_gap, score):\n",
        "    m, n = len(X), len(Y)\n",
        "    P = [[float('inf')] * (n + 1) for _ in range(m + 1)]\n",
        "    P[0][0] = 0\n",
        "\n",
        "    # Initialize the first row and column\n",
        "    for i in range(1, m + 1):\n",
        "        P[i][0] = P[i-1][0] + alpha_gap\n",
        "    for j in range(1, n + 1):\n",
        "        P[0][j] = P[0][j-1] + alpha_gap\n",
        "\n",
        "    # Fill the penalty table\n",
        "    for i in range(1, m + 1):\n",
        "        for j in range(1, n + 1):\n",
        "            match_mismatch_cost = score(X[i-1], Y[j-1])\n",
        "            P[i][j] = min(\n",
        "                P[i-1][j-1] + match_mismatch_cost,  # Diagonal (match/mismatch)\n",
        "                P[i-1][j] + alpha_gap,                # Up (gap in Y)\n",
        "                P[i][j-1] + alpha_gap                 # Left (gap in X)\n",
        "            )\n",
        "\n",
        "    return P\n",
        "\n",
        "\n",
        "\n",
        "# Test the compute_penalty_table function\n",
        "X = 'CYCLE'\n",
        "Y = 'BYCYCLE'\n",
        "alpha_gap = 100000\n",
        "\n",
        "def score(x, y):\n",
        "    return 0 if x == y else 200\n",
        "\n",
        "P = compute_penalty_table(X, Y, alpha_gap, score)\n",
        "\n",
        "\n",
        "# Print the penalty table\n",
        "def print_penalty_table(P):\n",
        "    for row in P:\n",
        "        print(\"\\t\".join(map(str, row)))\n",
        "\n",
        "print(\"Penalty Table:\")\n",
        "print_penalty_table(P)\n"
      ]
    },
    {
      "cell_type": "code",
      "source": [
        "def backtrack_alignment(X, Y, P, alpha_gap, score):\n",
        "    m, n = len(X), len(Y)\n",
        "    aligned_X, aligned_Y = [], []\n",
        "    i, j = m, n\n",
        "\n",
        "    # Traceback to create the aligned sequences\n",
        "    while i > 0 or j > 0:\n",
        "        if i > 0 and j > 0 and P[i][j] == P[i-1][j-1] + score(X[i-1], Y[j-1]):\n",
        "            aligned_X.append(X[i-1])\n",
        "            aligned_Y.append(Y[j-1])\n",
        "            i -= 1\n",
        "            j -= 1\n",
        "        elif i > 0 and P[i][j] == P[i-1][j] + alpha_gap:\n",
        "            aligned_X.append(X[i-1])\n",
        "            aligned_Y.append('-')\n",
        "            i -= 1\n",
        "        else:\n",
        "            aligned_X.append('-')\n",
        "            aligned_Y.append(Y[j-1])\n",
        "            j -= 1\n",
        "\n",
        "    return ''.join(reversed(aligned_X)), ''.join(reversed(aligned_Y))\n",
        "\n",
        "# Test the backtrack_alignment function\n",
        "aligned_X, aligned_Y = backtrack_alignment(X, Y, P, alpha_gap, score)\n",
        "\n",
        "print(\"\\nAligned X:\", aligned_X)\n",
        "print(\"Aligned Y:\", aligned_Y)\n"
      ],
      "metadata": {
        "colab": {
          "base_uri": "https://localhost:8080/"
        },
        "id": "o675CTLV9JS-",
        "outputId": "c55f16cc-d04c-4666-d53e-0a0814345d98"
      },
      "execution_count": null,
      "outputs": [
        {
          "output_type": "stream",
          "name": "stdout",
          "text": [
            "\n",
            "Aligned X: --CYCLE\n",
            "Aligned Y: BYCYCLE\n"
          ]
        }
      ]
    }
  ]
}